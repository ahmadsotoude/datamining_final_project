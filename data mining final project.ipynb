{
 "cells": [
  {
   "cell_type": "markdown",
   "metadata": {},
   "source": [
    "### پروژه نهایی داده کاوی\n",
    "#### احمد ستوده 4001231058"
   ]
  },
  {
   "cell_type": "code",
   "execution_count": 57,
   "metadata": {},
   "outputs": [],
   "source": [
    "import numpy as np\n",
    "import pandas as pd\n",
    "import matplotlib.pyplot as plt\n",
    "\n",
    "from sklearn.preprocessing import MinMaxScaler\n",
    "from sklearn.model_selection import train_test_split\n",
    "from sklearn.tree import DecisionTreeClassifier\n",
    "\n",
    "from sklearn.metrics import accuracy_score, precision_score, recall_score, f1_score, confusion_matrix, ConfusionMatrixDisplay\n",
    "from sklearn.metrics import silhouette_score\n",
    "\n",
    "\n",
    "from sklearn.svm import SVC\n",
    "from sklearn.cluster import KMeans, DBSCAN\n",
    "from scipy.cluster.hierarchy import linkage, fcluster, dendrogram"
   ]
  },
  {
   "cell_type": "markdown",
   "metadata": {},
   "source": [
    "#### Loading Dataset and Describe"
   ]
  },
  {
   "cell_type": "code",
   "execution_count": 58,
   "metadata": {},
   "outputs": [
    {
     "data": {
      "text/html": [
       "<div>\n",
       "<style scoped>\n",
       "    .dataframe tbody tr th:only-of-type {\n",
       "        vertical-align: middle;\n",
       "    }\n",
       "\n",
       "    .dataframe tbody tr th {\n",
       "        vertical-align: top;\n",
       "    }\n",
       "\n",
       "    .dataframe thead th {\n",
       "        text-align: right;\n",
       "    }\n",
       "</style>\n",
       "<table border=\"1\" class=\"dataframe\">\n",
       "  <thead>\n",
       "    <tr style=\"text-align: right;\">\n",
       "      <th></th>\n",
       "      <th>age</th>\n",
       "      <th>hypertension</th>\n",
       "      <th>heart_disease</th>\n",
       "      <th>bmi</th>\n",
       "      <th>HbA1c_level</th>\n",
       "      <th>blood_glucose_level</th>\n",
       "      <th>diabetes</th>\n",
       "    </tr>\n",
       "  </thead>\n",
       "  <tbody>\n",
       "    <tr>\n",
       "      <th>count</th>\n",
       "      <td>99999.000000</td>\n",
       "      <td>100001.000000</td>\n",
       "      <td>100001.000000</td>\n",
       "      <td>100001.000000</td>\n",
       "      <td>100000.000000</td>\n",
       "      <td>100001.000000</td>\n",
       "      <td>100001.000000</td>\n",
       "    </tr>\n",
       "    <tr>\n",
       "      <th>mean</th>\n",
       "      <td>41.391930</td>\n",
       "      <td>0.074849</td>\n",
       "      <td>0.039420</td>\n",
       "      <td>27.318426</td>\n",
       "      <td>5.527523</td>\n",
       "      <td>138.155888</td>\n",
       "      <td>0.084999</td>\n",
       "    </tr>\n",
       "    <tr>\n",
       "      <th>std</th>\n",
       "      <td>22.669181</td>\n",
       "      <td>0.263149</td>\n",
       "      <td>0.194592</td>\n",
       "      <td>6.935843</td>\n",
       "      <td>1.070676</td>\n",
       "      <td>51.279018</td>\n",
       "      <td>0.278882</td>\n",
       "    </tr>\n",
       "    <tr>\n",
       "      <th>min</th>\n",
       "      <td>-4.920000</td>\n",
       "      <td>0.000000</td>\n",
       "      <td>0.000000</td>\n",
       "      <td>3.629572</td>\n",
       "      <td>3.500000</td>\n",
       "      <td>80.000000</td>\n",
       "      <td>0.000000</td>\n",
       "    </tr>\n",
       "    <tr>\n",
       "      <th>25%</th>\n",
       "      <td>23.000000</td>\n",
       "      <td>0.000000</td>\n",
       "      <td>0.000000</td>\n",
       "      <td>23.382033</td>\n",
       "      <td>4.800000</td>\n",
       "      <td>100.000000</td>\n",
       "      <td>0.000000</td>\n",
       "    </tr>\n",
       "    <tr>\n",
       "      <th>50%</th>\n",
       "      <td>42.000000</td>\n",
       "      <td>0.000000</td>\n",
       "      <td>0.000000</td>\n",
       "      <td>26.964724</td>\n",
       "      <td>5.800000</td>\n",
       "      <td>140.000000</td>\n",
       "      <td>0.000000</td>\n",
       "    </tr>\n",
       "    <tr>\n",
       "      <th>75%</th>\n",
       "      <td>59.000000</td>\n",
       "      <td>0.000000</td>\n",
       "      <td>0.000000</td>\n",
       "      <td>30.279663</td>\n",
       "      <td>6.200000</td>\n",
       "      <td>159.000000</td>\n",
       "      <td>0.000000</td>\n",
       "    </tr>\n",
       "    <tr>\n",
       "      <th>max</th>\n",
       "      <td>84.000000</td>\n",
       "      <td>1.000000</td>\n",
       "      <td>1.000000</td>\n",
       "      <td>101.665015</td>\n",
       "      <td>9.000000</td>\n",
       "      <td>9999.000000</td>\n",
       "      <td>1.000000</td>\n",
       "    </tr>\n",
       "  </tbody>\n",
       "</table>\n",
       "</div>"
      ],
      "text/plain": [
       "                age   hypertension  heart_disease            bmi  \\\n",
       "count  99999.000000  100001.000000  100001.000000  100001.000000   \n",
       "mean      41.391930       0.074849       0.039420      27.318426   \n",
       "std       22.669181       0.263149       0.194592       6.935843   \n",
       "min       -4.920000       0.000000       0.000000       3.629572   \n",
       "25%       23.000000       0.000000       0.000000      23.382033   \n",
       "50%       42.000000       0.000000       0.000000      26.964724   \n",
       "75%       59.000000       0.000000       0.000000      30.279663   \n",
       "max       84.000000       1.000000       1.000000     101.665015   \n",
       "\n",
       "         HbA1c_level  blood_glucose_level       diabetes  \n",
       "count  100000.000000        100001.000000  100001.000000  \n",
       "mean        5.527523           138.155888       0.084999  \n",
       "std         1.070676            51.279018       0.278882  \n",
       "min         3.500000            80.000000       0.000000  \n",
       "25%         4.800000           100.000000       0.000000  \n",
       "50%         5.800000           140.000000       0.000000  \n",
       "75%         6.200000           159.000000       0.000000  \n",
       "max         9.000000          9999.000000       1.000000  "
      ]
     },
     "execution_count": 58,
     "metadata": {},
     "output_type": "execute_result"
    }
   ],
   "source": [
    "data = pd.read_csv('modified_diabetes_prediction_dataset.csv')\n",
    "data.describe()"
   ]
  },
  {
   "cell_type": "code",
   "execution_count": 59,
   "metadata": {},
   "outputs": [
    {
     "data": {
      "text/plain": [
       "gender                 0\n",
       "age                    2\n",
       "hypertension           0\n",
       "heart_disease          0\n",
       "smoking_history        1\n",
       "bmi                    0\n",
       "HbA1c_level            1\n",
       "blood_glucose_level    0\n",
       "diabetes               0\n",
       "dtype: int64"
      ]
     },
     "execution_count": 59,
     "metadata": {},
     "output_type": "execute_result"
    }
   ],
   "source": [
    "data.isna().sum()"
   ]
  },
  {
   "cell_type": "markdown",
   "metadata": {},
   "source": [
    "### Fixing Null, Missing and inconsistent valuse"
   ]
  },
  {
   "cell_type": "code",
   "execution_count": 60,
   "metadata": {},
   "outputs": [
    {
     "data": {
      "text/plain": [
       "array(['Female', 'Male', 'Other'], dtype=object)"
      ]
     },
     "execution_count": 60,
     "metadata": {},
     "output_type": "execute_result"
    }
   ],
   "source": [
    "def fix_gender(row):\n",
    "    if (pd.isna(row['gender'])) or (row['gender'] == 'unknown'):\n",
    "        similar_class_mode = data[data['diabetes'] == row['diabetes']]['gender'].mode()[0]\n",
    "        return similar_class_mode\n",
    "    return row['gender']\n",
    "data['gender'] = data.apply(fix_gender, axis=1)\n",
    "data['gender'].unique()"
   ]
  },
  {
   "cell_type": "code",
   "execution_count": 61,
   "metadata": {},
   "outputs": [],
   "source": [
    "data['smoking_history'] = data['smoking_history'].replace({\n",
    "    'ever': 'never',\n",
    "    'yes': 'current',\n",
    "    'not current': 'former'\n",
    "})"
   ]
  },
  {
   "cell_type": "code",
   "execution_count": 62,
   "metadata": {},
   "outputs": [
    {
     "data": {
      "text/plain": [
       "array(['never', 'current', 'former'], dtype=object)"
      ]
     },
     "execution_count": 62,
     "metadata": {},
     "output_type": "execute_result"
    }
   ],
   "source": [
    "def handle_smoking_history(row):\n",
    "    \n",
    "    if pd.isna(row['smoking_history']) or row['smoking_history'] == 'No Info':\n",
    "        if row['diabetes'] == 1:\n",
    "            return positive_diabetes_smoke_mode\n",
    "        if row['diabetes'] == 0:\n",
    "            return negative_diabetes_smoke_mode\n",
    "        \n",
    "    return row['smoking_history']\n",
    "\n",
    "negative_diabetes_smoke_mode = data[data['diabetes'] == 0]['smoking_history'].mode()[0]\n",
    "positive_diabetes_smoke_mode = data[data['diabetes'] == 1]['smoking_history'].mode()[0]\n",
    "\n",
    "data['smoking_history'] = data.apply(handle_smoking_history, axis=1)\n",
    "data['smoking_history'].unique()"
   ]
  },
  {
   "cell_type": "code",
   "execution_count": 63,
   "metadata": {},
   "outputs": [],
   "source": [
    "def fill_with_mode_or_mean(row, column):\n",
    "    if (pd.isna(row[column])) or (row[column] < 0):\n",
    "        if column in ['age', 'bmi', 'HbA1c_level', 'blood_glucose_level']:\n",
    "            return data[column].mean()\n",
    "        return data[column].mode()[0]\n",
    "    return row[column]\n",
    "\n",
    "missing_columns = ['age', 'HbA1c_level']\n",
    "for column in missing_columns:\n",
    "    data[column] = data.apply(lambda row: fill_with_mode_or_mean(row, column), axis=1)"
   ]
  },
  {
   "cell_type": "markdown",
   "metadata": {},
   "source": [
    "### Describe Data, Outlier Detection and Removal"
   ]
  },
  {
   "cell_type": "code",
   "execution_count": 64,
   "metadata": {},
   "outputs": [
    {
     "data": {
      "text/html": [
       "<div>\n",
       "<style scoped>\n",
       "    .dataframe tbody tr th:only-of-type {\n",
       "        vertical-align: middle;\n",
       "    }\n",
       "\n",
       "    .dataframe tbody tr th {\n",
       "        vertical-align: top;\n",
       "    }\n",
       "\n",
       "    .dataframe thead th {\n",
       "        text-align: right;\n",
       "    }\n",
       "</style>\n",
       "<table border=\"1\" class=\"dataframe\">\n",
       "  <thead>\n",
       "    <tr style=\"text-align: right;\">\n",
       "      <th></th>\n",
       "      <th>age</th>\n",
       "      <th>hypertension</th>\n",
       "      <th>heart_disease</th>\n",
       "      <th>bmi</th>\n",
       "      <th>HbA1c_level</th>\n",
       "      <th>blood_glucose_level</th>\n",
       "      <th>diabetes</th>\n",
       "    </tr>\n",
       "  </thead>\n",
       "  <tbody>\n",
       "    <tr>\n",
       "      <th>count</th>\n",
       "      <td>100001.000000</td>\n",
       "      <td>100001.000000</td>\n",
       "      <td>100001.000000</td>\n",
       "      <td>100001.000000</td>\n",
       "      <td>100001.000000</td>\n",
       "      <td>100001.000000</td>\n",
       "      <td>100001.000000</td>\n",
       "    </tr>\n",
       "    <tr>\n",
       "      <th>mean</th>\n",
       "      <td>42.060677</td>\n",
       "      <td>0.074849</td>\n",
       "      <td>0.039420</td>\n",
       "      <td>27.318426</td>\n",
       "      <td>5.527523</td>\n",
       "      <td>138.155888</td>\n",
       "      <td>0.084999</td>\n",
       "    </tr>\n",
       "    <tr>\n",
       "      <th>std</th>\n",
       "      <td>22.008467</td>\n",
       "      <td>0.263149</td>\n",
       "      <td>0.194592</td>\n",
       "      <td>6.935843</td>\n",
       "      <td>1.070671</td>\n",
       "      <td>51.279018</td>\n",
       "      <td>0.278882</td>\n",
       "    </tr>\n",
       "    <tr>\n",
       "      <th>min</th>\n",
       "      <td>0.000000</td>\n",
       "      <td>0.000000</td>\n",
       "      <td>0.000000</td>\n",
       "      <td>3.629572</td>\n",
       "      <td>3.500000</td>\n",
       "      <td>80.000000</td>\n",
       "      <td>0.000000</td>\n",
       "    </tr>\n",
       "    <tr>\n",
       "      <th>25%</th>\n",
       "      <td>24.000000</td>\n",
       "      <td>0.000000</td>\n",
       "      <td>0.000000</td>\n",
       "      <td>23.382033</td>\n",
       "      <td>4.800000</td>\n",
       "      <td>100.000000</td>\n",
       "      <td>0.000000</td>\n",
       "    </tr>\n",
       "    <tr>\n",
       "      <th>50%</th>\n",
       "      <td>42.000000</td>\n",
       "      <td>0.000000</td>\n",
       "      <td>0.000000</td>\n",
       "      <td>26.964724</td>\n",
       "      <td>5.800000</td>\n",
       "      <td>140.000000</td>\n",
       "      <td>0.000000</td>\n",
       "    </tr>\n",
       "    <tr>\n",
       "      <th>75%</th>\n",
       "      <td>59.000000</td>\n",
       "      <td>0.000000</td>\n",
       "      <td>0.000000</td>\n",
       "      <td>30.279663</td>\n",
       "      <td>6.200000</td>\n",
       "      <td>159.000000</td>\n",
       "      <td>0.000000</td>\n",
       "    </tr>\n",
       "    <tr>\n",
       "      <th>max</th>\n",
       "      <td>84.000000</td>\n",
       "      <td>1.000000</td>\n",
       "      <td>1.000000</td>\n",
       "      <td>101.665015</td>\n",
       "      <td>9.000000</td>\n",
       "      <td>9999.000000</td>\n",
       "      <td>1.000000</td>\n",
       "    </tr>\n",
       "  </tbody>\n",
       "</table>\n",
       "</div>"
      ],
      "text/plain": [
       "                 age   hypertension  heart_disease            bmi  \\\n",
       "count  100001.000000  100001.000000  100001.000000  100001.000000   \n",
       "mean       42.060677       0.074849       0.039420      27.318426   \n",
       "std        22.008467       0.263149       0.194592       6.935843   \n",
       "min         0.000000       0.000000       0.000000       3.629572   \n",
       "25%        24.000000       0.000000       0.000000      23.382033   \n",
       "50%        42.000000       0.000000       0.000000      26.964724   \n",
       "75%        59.000000       0.000000       0.000000      30.279663   \n",
       "max        84.000000       1.000000       1.000000     101.665015   \n",
       "\n",
       "         HbA1c_level  blood_glucose_level       diabetes  \n",
       "count  100001.000000        100001.000000  100001.000000  \n",
       "mean        5.527523           138.155888       0.084999  \n",
       "std         1.070671            51.279018       0.278882  \n",
       "min         3.500000            80.000000       0.000000  \n",
       "25%         4.800000           100.000000       0.000000  \n",
       "50%         5.800000           140.000000       0.000000  \n",
       "75%         6.200000           159.000000       0.000000  \n",
       "max         9.000000          9999.000000       1.000000  "
      ]
     },
     "execution_count": 64,
     "metadata": {},
     "output_type": "execute_result"
    }
   ],
   "source": [
    "data.describe()"
   ]
  },
  {
   "cell_type": "code",
   "execution_count": 65,
   "metadata": {},
   "outputs": [],
   "source": [
    "numeric_cols = ['age', 'bmi', 'HbA1c_level', 'blood_glucose_level']\n",
    "for col in numeric_cols:\n",
    "    Q1 = data[col].quantile(0.25)\n",
    "    Q3 = data[col].quantile(0.75)\n",
    "    IQR = Q3 - Q1\n",
    "    lower_bound = Q1 - 1.5 * IQR\n",
    "    upper_bound = Q3 + 1.5 * IQR\n",
    "    data[col] = data[col].apply(lambda x: lower_bound if x < lower_bound else upper_bound if x > upper_bound else x)"
   ]
  },
  {
   "cell_type": "markdown",
   "metadata": {},
   "source": [
    "### Scaling Numeric Columns"
   ]
  },
  {
   "cell_type": "code",
   "execution_count": 66,
   "metadata": {},
   "outputs": [],
   "source": [
    "scaler = MinMaxScaler()\n",
    "numeric_cols = ['age', 'bmi', 'HbA1c_level', 'blood_glucose_level']\n",
    "data[numeric_cols] = scaler.fit_transform(data[numeric_cols])"
   ]
  },
  {
   "cell_type": "markdown",
   "metadata": {},
   "source": [
    "### Dropping Duplicate Rows"
   ]
  },
  {
   "cell_type": "code",
   "execution_count": 67,
   "metadata": {},
   "outputs": [],
   "source": [
    "data = data.drop_duplicates()"
   ]
  },
  {
   "cell_type": "markdown",
   "metadata": {},
   "source": [
    "### Fixing Inconsistent Cols (smoking_history and gender)"
   ]
  },
  {
   "cell_type": "code",
   "execution_count": 68,
   "metadata": {},
   "outputs": [
    {
     "data": {
      "text/html": [
       "<div>\n",
       "<style scoped>\n",
       "    .dataframe tbody tr th:only-of-type {\n",
       "        vertical-align: middle;\n",
       "    }\n",
       "\n",
       "    .dataframe tbody tr th {\n",
       "        vertical-align: top;\n",
       "    }\n",
       "\n",
       "    .dataframe thead th {\n",
       "        text-align: right;\n",
       "    }\n",
       "</style>\n",
       "<table border=\"1\" class=\"dataframe\">\n",
       "  <thead>\n",
       "    <tr style=\"text-align: right;\">\n",
       "      <th></th>\n",
       "      <th>gender</th>\n",
       "      <th>age</th>\n",
       "      <th>hypertension</th>\n",
       "      <th>heart_disease</th>\n",
       "      <th>smoking_history</th>\n",
       "      <th>bmi</th>\n",
       "      <th>HbA1c_level</th>\n",
       "      <th>blood_glucose_level</th>\n",
       "      <th>diabetes</th>\n",
       "    </tr>\n",
       "  </thead>\n",
       "  <tbody>\n",
       "    <tr>\n",
       "      <th>0</th>\n",
       "      <td>Female</td>\n",
       "      <td>0.928571</td>\n",
       "      <td>0</td>\n",
       "      <td>1</td>\n",
       "      <td>never</td>\n",
       "      <td>1.000000</td>\n",
       "      <td>0.645833</td>\n",
       "      <td>0.358209</td>\n",
       "      <td>0</td>\n",
       "    </tr>\n",
       "    <tr>\n",
       "      <th>1</th>\n",
       "      <td>Female</td>\n",
       "      <td>0.492761</td>\n",
       "      <td>0</td>\n",
       "      <td>0</td>\n",
       "      <td>never</td>\n",
       "      <td>0.543628</td>\n",
       "      <td>0.645833</td>\n",
       "      <td>0.000000</td>\n",
       "      <td>0</td>\n",
       "    </tr>\n",
       "    <tr>\n",
       "      <th>2</th>\n",
       "      <td>Male</td>\n",
       "      <td>0.333333</td>\n",
       "      <td>0</td>\n",
       "      <td>0</td>\n",
       "      <td>never</td>\n",
       "      <td>0.447022</td>\n",
       "      <td>0.458333</td>\n",
       "      <td>1.000000</td>\n",
       "      <td>0</td>\n",
       "    </tr>\n",
       "    <tr>\n",
       "      <th>3</th>\n",
       "      <td>Female</td>\n",
       "      <td>0.440476</td>\n",
       "      <td>0</td>\n",
       "      <td>0</td>\n",
       "      <td>current</td>\n",
       "      <td>0.443160</td>\n",
       "      <td>0.422401</td>\n",
       "      <td>0.447761</td>\n",
       "      <td>0</td>\n",
       "    </tr>\n",
       "    <tr>\n",
       "      <th>4</th>\n",
       "      <td>Male</td>\n",
       "      <td>0.892857</td>\n",
       "      <td>1</td>\n",
       "      <td>1</td>\n",
       "      <td>current</td>\n",
       "      <td>0.368867</td>\n",
       "      <td>0.270833</td>\n",
       "      <td>0.447761</td>\n",
       "      <td>0</td>\n",
       "    </tr>\n",
       "  </tbody>\n",
       "</table>\n",
       "</div>"
      ],
      "text/plain": [
       "   gender       age  hypertension  heart_disease smoking_history       bmi  \\\n",
       "0  Female  0.928571             0              1           never  1.000000   \n",
       "1  Female  0.492761             0              0           never  0.543628   \n",
       "2    Male  0.333333             0              0           never  0.447022   \n",
       "3  Female  0.440476             0              0         current  0.443160   \n",
       "4    Male  0.892857             1              1         current  0.368867   \n",
       "\n",
       "   HbA1c_level  blood_glucose_level  diabetes  \n",
       "0     0.645833             0.358209         0  \n",
       "1     0.645833             0.000000         0  \n",
       "2     0.458333             1.000000         0  \n",
       "3     0.422401             0.447761         0  \n",
       "4     0.270833             0.447761         0  "
      ]
     },
     "execution_count": 68,
     "metadata": {},
     "output_type": "execute_result"
    }
   ],
   "source": [
    "data.head()"
   ]
  },
  {
   "cell_type": "code",
   "execution_count": 69,
   "metadata": {},
   "outputs": [
    {
     "data": {
      "text/plain": [
       "array(['never', 'current', 'former'], dtype=object)"
      ]
     },
     "execution_count": 69,
     "metadata": {},
     "output_type": "execute_result"
    }
   ],
   "source": [
    "data['smoking_history'].unique()"
   ]
  },
  {
   "cell_type": "code",
   "execution_count": 70,
   "metadata": {},
   "outputs": [],
   "source": [
    "gender_mapping = {\n",
    "'Other': float(0/3),\n",
    "'Female': float(1/3),\n",
    "'Male': float(2/3),\n",
    "}\n",
    "\n",
    "data['gender'] = data['gender'].map(gender_mapping)\n",
    "\n",
    "smoke_mapping = {\n",
    "'never': float(0/3),\n",
    "'former': float(1/3),\n",
    "'current': float(2/3)\n",
    "}\n",
    "\n",
    "data['smoking_history'] = data['smoking_history'].map(smoke_mapping)"
   ]
  },
  {
   "cell_type": "markdown",
   "metadata": {},
   "source": [
    "# Data is CLEAN now!"
   ]
  },
  {
   "cell_type": "code",
   "execution_count": 71,
   "metadata": {},
   "outputs": [
    {
     "data": {
      "text/html": [
       "<div>\n",
       "<style scoped>\n",
       "    .dataframe tbody tr th:only-of-type {\n",
       "        vertical-align: middle;\n",
       "    }\n",
       "\n",
       "    .dataframe tbody tr th {\n",
       "        vertical-align: top;\n",
       "    }\n",
       "\n",
       "    .dataframe thead th {\n",
       "        text-align: right;\n",
       "    }\n",
       "</style>\n",
       "<table border=\"1\" class=\"dataframe\">\n",
       "  <thead>\n",
       "    <tr style=\"text-align: right;\">\n",
       "      <th></th>\n",
       "      <th>gender</th>\n",
       "      <th>age</th>\n",
       "      <th>hypertension</th>\n",
       "      <th>heart_disease</th>\n",
       "      <th>smoking_history</th>\n",
       "      <th>bmi</th>\n",
       "      <th>HbA1c_level</th>\n",
       "      <th>blood_glucose_level</th>\n",
       "      <th>diabetes</th>\n",
       "    </tr>\n",
       "  </thead>\n",
       "  <tbody>\n",
       "    <tr>\n",
       "      <th>0</th>\n",
       "      <td>0.333333</td>\n",
       "      <td>0.928571</td>\n",
       "      <td>0</td>\n",
       "      <td>1</td>\n",
       "      <td>0.000000</td>\n",
       "      <td>1.000000</td>\n",
       "      <td>0.645833</td>\n",
       "      <td>0.358209</td>\n",
       "      <td>0</td>\n",
       "    </tr>\n",
       "    <tr>\n",
       "      <th>1</th>\n",
       "      <td>0.333333</td>\n",
       "      <td>0.492761</td>\n",
       "      <td>0</td>\n",
       "      <td>0</td>\n",
       "      <td>0.000000</td>\n",
       "      <td>0.543628</td>\n",
       "      <td>0.645833</td>\n",
       "      <td>0.000000</td>\n",
       "      <td>0</td>\n",
       "    </tr>\n",
       "    <tr>\n",
       "      <th>2</th>\n",
       "      <td>0.666667</td>\n",
       "      <td>0.333333</td>\n",
       "      <td>0</td>\n",
       "      <td>0</td>\n",
       "      <td>0.000000</td>\n",
       "      <td>0.447022</td>\n",
       "      <td>0.458333</td>\n",
       "      <td>1.000000</td>\n",
       "      <td>0</td>\n",
       "    </tr>\n",
       "    <tr>\n",
       "      <th>3</th>\n",
       "      <td>0.333333</td>\n",
       "      <td>0.440476</td>\n",
       "      <td>0</td>\n",
       "      <td>0</td>\n",
       "      <td>0.666667</td>\n",
       "      <td>0.443160</td>\n",
       "      <td>0.422401</td>\n",
       "      <td>0.447761</td>\n",
       "      <td>0</td>\n",
       "    </tr>\n",
       "    <tr>\n",
       "      <th>4</th>\n",
       "      <td>0.666667</td>\n",
       "      <td>0.892857</td>\n",
       "      <td>1</td>\n",
       "      <td>1</td>\n",
       "      <td>0.666667</td>\n",
       "      <td>0.368867</td>\n",
       "      <td>0.270833</td>\n",
       "      <td>0.447761</td>\n",
       "      <td>0</td>\n",
       "    </tr>\n",
       "  </tbody>\n",
       "</table>\n",
       "</div>"
      ],
      "text/plain": [
       "     gender       age  hypertension  heart_disease  smoking_history       bmi  \\\n",
       "0  0.333333  0.928571             0              1         0.000000  1.000000   \n",
       "1  0.333333  0.492761             0              0         0.000000  0.543628   \n",
       "2  0.666667  0.333333             0              0         0.000000  0.447022   \n",
       "3  0.333333  0.440476             0              0         0.666667  0.443160   \n",
       "4  0.666667  0.892857             1              1         0.666667  0.368867   \n",
       "\n",
       "   HbA1c_level  blood_glucose_level  diabetes  \n",
       "0     0.645833             0.358209         0  \n",
       "1     0.645833             0.000000         0  \n",
       "2     0.458333             1.000000         0  \n",
       "3     0.422401             0.447761         0  \n",
       "4     0.270833             0.447761         0  "
      ]
     },
     "execution_count": 71,
     "metadata": {},
     "output_type": "execute_result"
    }
   ],
   "source": [
    "data.head()"
   ]
  },
  {
   "cell_type": "markdown",
   "metadata": {},
   "source": [
    "### Checking Correlation:"
   ]
  },
  {
   "cell_type": "code",
   "execution_count": 72,
   "metadata": {},
   "outputs": [
    {
     "data": {
      "text/html": [
       "<div>\n",
       "<style scoped>\n",
       "    .dataframe tbody tr th:only-of-type {\n",
       "        vertical-align: middle;\n",
       "    }\n",
       "\n",
       "    .dataframe tbody tr th {\n",
       "        vertical-align: top;\n",
       "    }\n",
       "\n",
       "    .dataframe thead th {\n",
       "        text-align: right;\n",
       "    }\n",
       "</style>\n",
       "<table border=\"1\" class=\"dataframe\">\n",
       "  <thead>\n",
       "    <tr style=\"text-align: right;\">\n",
       "      <th></th>\n",
       "      <th>gender</th>\n",
       "      <th>age</th>\n",
       "      <th>hypertension</th>\n",
       "      <th>heart_disease</th>\n",
       "      <th>smoking_history</th>\n",
       "      <th>bmi</th>\n",
       "      <th>HbA1c_level</th>\n",
       "      <th>blood_glucose_level</th>\n",
       "      <th>diabetes</th>\n",
       "    </tr>\n",
       "  </thead>\n",
       "  <tbody>\n",
       "    <tr>\n",
       "      <th>gender</th>\n",
       "      <td>1.000000</td>\n",
       "      <td>-0.024161</td>\n",
       "      <td>0.014435</td>\n",
       "      <td>0.077795</td>\n",
       "      <td>0.041424</td>\n",
       "      <td>-0.012110</td>\n",
       "      <td>0.019606</td>\n",
       "      <td>0.015987</td>\n",
       "      <td>0.037990</td>\n",
       "    </tr>\n",
       "    <tr>\n",
       "      <th>age</th>\n",
       "      <td>-0.024161</td>\n",
       "      <td>1.000000</td>\n",
       "      <td>0.247943</td>\n",
       "      <td>0.232666</td>\n",
       "      <td>0.139771</td>\n",
       "      <td>0.319324</td>\n",
       "      <td>0.094255</td>\n",
       "      <td>0.100962</td>\n",
       "      <td>0.253951</td>\n",
       "    </tr>\n",
       "    <tr>\n",
       "      <th>hypertension</th>\n",
       "      <td>0.014435</td>\n",
       "      <td>0.247943</td>\n",
       "      <td>1.000000</td>\n",
       "      <td>0.121246</td>\n",
       "      <td>0.054337</td>\n",
       "      <td>0.145190</td>\n",
       "      <td>0.077715</td>\n",
       "      <td>0.078098</td>\n",
       "      <td>0.197878</td>\n",
       "    </tr>\n",
       "    <tr>\n",
       "      <th>heart_disease</th>\n",
       "      <td>0.077795</td>\n",
       "      <td>0.232666</td>\n",
       "      <td>0.121246</td>\n",
       "      <td>1.000000</td>\n",
       "      <td>0.052982</td>\n",
       "      <td>0.064395</td>\n",
       "      <td>0.064744</td>\n",
       "      <td>0.064474</td>\n",
       "      <td>0.171883</td>\n",
       "    </tr>\n",
       "    <tr>\n",
       "      <th>smoking_history</th>\n",
       "      <td>0.041424</td>\n",
       "      <td>0.139771</td>\n",
       "      <td>0.054337</td>\n",
       "      <td>0.052982</td>\n",
       "      <td>1.000000</td>\n",
       "      <td>0.118100</td>\n",
       "      <td>0.024767</td>\n",
       "      <td>0.030163</td>\n",
       "      <td>0.069998</td>\n",
       "    </tr>\n",
       "    <tr>\n",
       "      <th>bmi</th>\n",
       "      <td>-0.012110</td>\n",
       "      <td>0.319324</td>\n",
       "      <td>0.145190</td>\n",
       "      <td>0.064395</td>\n",
       "      <td>0.118100</td>\n",
       "      <td>1.000000</td>\n",
       "      <td>0.076951</td>\n",
       "      <td>0.080054</td>\n",
       "      <td>0.202033</td>\n",
       "    </tr>\n",
       "    <tr>\n",
       "      <th>HbA1c_level</th>\n",
       "      <td>0.019606</td>\n",
       "      <td>0.094255</td>\n",
       "      <td>0.077715</td>\n",
       "      <td>0.064744</td>\n",
       "      <td>0.024767</td>\n",
       "      <td>0.076951</td>\n",
       "      <td>1.000000</td>\n",
       "      <td>0.147453</td>\n",
       "      <td>0.384778</td>\n",
       "    </tr>\n",
       "    <tr>\n",
       "      <th>blood_glucose_level</th>\n",
       "      <td>0.015987</td>\n",
       "      <td>0.100962</td>\n",
       "      <td>0.078098</td>\n",
       "      <td>0.064474</td>\n",
       "      <td>0.030163</td>\n",
       "      <td>0.080054</td>\n",
       "      <td>0.147453</td>\n",
       "      <td>1.000000</td>\n",
       "      <td>0.386430</td>\n",
       "    </tr>\n",
       "    <tr>\n",
       "      <th>diabetes</th>\n",
       "      <td>0.037990</td>\n",
       "      <td>0.253951</td>\n",
       "      <td>0.197878</td>\n",
       "      <td>0.171883</td>\n",
       "      <td>0.069998</td>\n",
       "      <td>0.202033</td>\n",
       "      <td>0.384778</td>\n",
       "      <td>0.386430</td>\n",
       "      <td>1.000000</td>\n",
       "    </tr>\n",
       "  </tbody>\n",
       "</table>\n",
       "</div>"
      ],
      "text/plain": [
       "                       gender       age  hypertension  heart_disease  \\\n",
       "gender               1.000000 -0.024161      0.014435       0.077795   \n",
       "age                 -0.024161  1.000000      0.247943       0.232666   \n",
       "hypertension         0.014435  0.247943      1.000000       0.121246   \n",
       "heart_disease        0.077795  0.232666      0.121246       1.000000   \n",
       "smoking_history      0.041424  0.139771      0.054337       0.052982   \n",
       "bmi                 -0.012110  0.319324      0.145190       0.064395   \n",
       "HbA1c_level          0.019606  0.094255      0.077715       0.064744   \n",
       "blood_glucose_level  0.015987  0.100962      0.078098       0.064474   \n",
       "diabetes             0.037990  0.253951      0.197878       0.171883   \n",
       "\n",
       "                     smoking_history       bmi  HbA1c_level  \\\n",
       "gender                      0.041424 -0.012110     0.019606   \n",
       "age                         0.139771  0.319324     0.094255   \n",
       "hypertension                0.054337  0.145190     0.077715   \n",
       "heart_disease               0.052982  0.064395     0.064744   \n",
       "smoking_history             1.000000  0.118100     0.024767   \n",
       "bmi                         0.118100  1.000000     0.076951   \n",
       "HbA1c_level                 0.024767  0.076951     1.000000   \n",
       "blood_glucose_level         0.030163  0.080054     0.147453   \n",
       "diabetes                    0.069998  0.202033     0.384778   \n",
       "\n",
       "                     blood_glucose_level  diabetes  \n",
       "gender                          0.015987  0.037990  \n",
       "age                             0.100962  0.253951  \n",
       "hypertension                    0.078098  0.197878  \n",
       "heart_disease                   0.064474  0.171883  \n",
       "smoking_history                 0.030163  0.069998  \n",
       "bmi                             0.080054  0.202033  \n",
       "HbA1c_level                     0.147453  0.384778  \n",
       "blood_glucose_level             1.000000  0.386430  \n",
       "diabetes                        0.386430  1.000000  "
      ]
     },
     "execution_count": 72,
     "metadata": {},
     "output_type": "execute_result"
    }
   ],
   "source": [
    "data.corr()"
   ]
  },
  {
   "cell_type": "markdown",
   "metadata": {},
   "source": [
    "### Dropping uncorrelated cols (smoking_history and gender)"
   ]
  },
  {
   "cell_type": "code",
   "execution_count": 73,
   "metadata": {},
   "outputs": [],
   "source": [
    "data = data.drop(columns=['gender', 'smoking_history'])"
   ]
  },
  {
   "cell_type": "markdown",
   "metadata": {},
   "source": [
    "### Splitting Data"
   ]
  },
  {
   "cell_type": "code",
   "execution_count": 74,
   "metadata": {},
   "outputs": [],
   "source": [
    "X = data.drop(columns=['diabetes'])\n",
    "y = data['diabetes']\n",
    "\n",
    "X_train, X_test, y_train, y_test = train_test_split(X, y, test_size=0.3, random_state=42, stratify=y)"
   ]
  },
  {
   "cell_type": "markdown",
   "metadata": {},
   "source": [
    "## Training and Evaluation of Classifiers (DT, SVM)"
   ]
  },
  {
   "cell_type": "code",
   "execution_count": 75,
   "metadata": {},
   "outputs": [],
   "source": [
    "dt = DecisionTreeClassifier(random_state=42)\n",
    "dt.fit(X_train, y_train)\n",
    "y_pred_dt = dt.predict(X_test)"
   ]
  },
  {
   "cell_type": "code",
   "execution_count": 76,
   "metadata": {},
   "outputs": [
    {
     "name": "stdout",
     "output_type": "stream",
     "text": [
      "Decision Tree Results:\n",
      "Accuracy: 0.95\n",
      "Precision: 0.72\n",
      "Recall: 0.74\n",
      "F1-Score: 0.73\n",
      "\n"
     ]
    },
    {
     "data": {
      "image/png": "[encoded data removed]",
      "text/plain": [
       "<Figure size 640x480 with 2 Axes>"
      ]
     },
     "metadata": {},
     "output_type": "display_data"
    }
   ],
   "source": [
    "acc = accuracy_score(y_test, y_pred_dt)\n",
    "prec = precision_score(y_test, y_pred_dt, average='binary')\n",
    "rec = recall_score(y_test, y_pred_dt, average='binary')\n",
    "f1 = f1_score(y_test, y_pred_dt, average='binary')\n",
    "\n",
    "print(f\"Decision Tree Results:\")\n",
    "print(f\"Accuracy: {acc:.2f}\")\n",
    "print(f\"Precision: {prec:.2f}\")\n",
    "print(f\"Recall: {rec:.2f}\")\n",
    "print(f\"F1-Score: {f1:.2f}\\n\")\n",
    "\n",
    "cm = confusion_matrix(y_test, y_pred_dt)\n",
    "disp = ConfusionMatrixDisplay(confusion_matrix=cm)\n",
    "disp.plot()\n",
    "plt.title(f\"Decision Tree Confusion Matrix\")\n",
    "plt.show()"
   ]
  },
  {
   "cell_type": "code",
   "execution_count": 77,
   "metadata": {},
   "outputs": [],
   "source": [
    "svm = SVC(kernel='poly', random_state=42)\n",
    "svm.fit(X_train, y_train)\n",
    "y_pred_svm = svm.predict(X_test)"
   ]
  },
  {
   "cell_type": "code",
   "execution_count": 78,
   "metadata": {},
   "outputs": [
    {
     "name": "stdout",
     "output_type": "stream",
     "text": [
      "SVM Results:\n",
      "Accuracy: 0.96\n",
      "Precision: 0.98\n",
      "Recall: 0.59\n",
      "F1-Score: 0.74\n",
      "\n"
     ]
    },
    {
     "data": {
      "image/png": "[encoded data removed]",
      "text/plain": [
       "<Figure size 640x480 with 2 Axes>"
      ]
     },
     "metadata": {},
     "output_type": "display_data"
    }
   ],
   "source": [
    "acc = accuracy_score(y_test, y_pred_svm)\n",
    "prec = precision_score(y_test, y_pred_svm, average='binary')\n",
    "rec = recall_score(y_test, y_pred_svm, average='binary')\n",
    "f1 = f1_score(y_test, y_pred_svm, average='binary')\n",
    "\n",
    "print(f\"SVM Results:\")\n",
    "print(f\"Accuracy: {acc:.2f}\")\n",
    "print(f\"Precision: {prec:.2f}\")\n",
    "print(f\"Recall: {rec:.2f}\")\n",
    "print(f\"F1-Score: {f1:.2f}\\n\")\n",
    "\n",
    "cm = confusion_matrix(y_test, y_pred_svm)\n",
    "disp = ConfusionMatrixDisplay(confusion_matrix=cm)\n",
    "disp.plot()\n",
    "plt.title(f\"SVM Confusion Matrix\")\n",
    "plt.show()"
   ]
  },
  {
   "cell_type": "markdown",
   "metadata": {},
   "source": [
    "## Training and Evaluation of Clustering Models (KMeans, Hirearchical, DBSCAN)"
   ]
  },
  {
   "cell_type": "code",
   "execution_count": 79,
   "metadata": {},
   "outputs": [
    {
     "data": {
      "image/png": "[encoded data removed]",
      "text/plain": [
       "<Figure size 640x480 with 1 Axes>"
      ]
     },
     "metadata": {},
     "output_type": "display_data"
    }
   ],
   "source": [
    "inertia = []\n",
    "k_range = range(1, 11)\n",
    "for k in k_range:\n",
    "    kmeans = KMeans(n_clusters=k, random_state=42)\n",
    "    kmeans.fit(X_train[:2500])\n",
    "    inertia.append(kmeans.inertia_)\n",
    "\n",
    "plt.plot(k_range, inertia, marker='o')\n",
    "plt.xlabel('Number of clusters')\n",
    "plt.ylabel('Inertia')\n",
    "plt.title('Elbow Method for Optimal Clusters')\n",
    "plt.show()"
   ]
  },
  {
   "cell_type": "code",
   "execution_count": 80,
   "metadata": {},
   "outputs": [
    {
     "name": "stdout",
     "output_type": "stream",
     "text": [
      "Silhouette Score for KMeans: 0.21\n",
      "\n"
     ]
    }
   ],
   "source": [
    "optimal_k = 6\n",
    "kmeans = KMeans(n_clusters=optimal_k, random_state=42)\n",
    "labels_kmeans = kmeans.fit_predict(X_train[:10000])\n",
    "print(f\"Silhouette Score for KMeans: {silhouette_score(X_train[:10000], labels_kmeans):.2f}\\n\")"
   ]
  },
  {
   "cell_type": "code",
   "execution_count": 81,
   "metadata": {},
   "outputs": [
    {
     "data": {
      "image/png": "[encoded data removed]",
      "text/plain": [
       "<Figure size 1500x300 with 1 Axes>"
      ]
     },
     "metadata": {},
     "output_type": "display_data"
    }
   ],
   "source": [
    "dendro = linkage(X_train[:200], method='ward')\n",
    "plt.figure(figsize=(15,3))\n",
    "dendrogram(dendro, labels=y_train[:200].values)\n",
    "plt.title('Dendrogram')\n",
    "plt.xlabel('Samples')\n",
    "plt.ylabel('Distance')\n",
    "plt.xticks(rotation=0)\n",
    "plt.show()"
   ]
  },
  {
   "cell_type": "code",
   "execution_count": 82,
   "metadata": {},
   "outputs": [
    {
     "name": "stdout",
     "output_type": "stream",
     "text": [
      "Silhouette Score for Hierarchical Clustering: 0.22\n",
      "\n"
     ]
    }
   ],
   "source": [
    "dendro = linkage(X_train[:10000], method='ward')\n",
    "\n",
    "threshold = 10\n",
    "labels_hierarchical = fcluster(dendro, t=threshold, criterion='distance')\n",
    "print(f\"Silhouette Score for Hierarchical Clustering: {silhouette_score(X_train[:10000], labels_hierarchical):.2f}\\n\")"
   ]
  },
  {
   "cell_type": "code",
   "execution_count": 83,
   "metadata": {},
   "outputs": [
    {
     "name": "stdout",
     "output_type": "stream",
     "text": [
      "Silhouette Score for DBSCAN: 0.50\n",
      "\n"
     ]
    }
   ],
   "source": [
    "dbscan = DBSCAN(eps=0.5, min_samples=10)\n",
    "labels_dbscan = dbscan.fit_predict(X_train[:10000])\n",
    "print(f\"Silhouette Score for DBSCAN: {silhouette_score(X_train[:10000], labels_dbscan):.2f}\\n\")"
   ]
  }
 ],
 "metadata": {
  "kernelspec": {
   "display_name": "Python 3",
   "language": "python",
   "name": "python3"
  },
  "language_info": {
   "codemirror_mode": {
    "name": "ipython",
    "version": 3
   },
   "file_extension": ".py",
   "mimetype": "text/x-python",
   "name": "python",
   "nbconvert_exporter": "python",
   "pygments_lexer": "ipython3",
   "version": "3.11.0"
  }
 },
 "nbformat": 4,
 "nbformat_minor": 2
}
